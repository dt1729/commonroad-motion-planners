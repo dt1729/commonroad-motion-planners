{
 "cells": [
  {
   "cell_type": "markdown",
   "metadata": {},
   "source": [
    "## Tutorial: Motion Primitives Generator\n",
    "\n",
    "This tutorial demonstrates how are the motion primitives generated. You can find all related files in the [CommonRoad Search](https://gitlab.lrz.de/tum-cps/commonroad-search) repository, under folder GSMP/tools/motion_primitive_generator/.\n",
    "\n",
    "The main components are:\n",
    "* **motion_primitives_config.yaml** in which the configuration is set;\n",
    "* **implementation.py** in which the main functions are implemented; and\n",
    "* the script below to execute the functions.\n",
    "\n",
    "Before proceeding, you should make sure the configuration file is set correctly, which consists of the following parameters:\n",
    "* **output setting**:\n",
    "    * output_directory: output directory for generated motion primitives.\n",
    "* **vehicle setting**:\n",
    "    * veh_type_id: id of vehicle type. 1: FORD_ESCORT, 2: BMW_320i, 3: VW_VANAGON\n",
    "* **primitive setting**:\n",
    "    * T: time length of trajectory [s].\n",
    "    * dt_simulation: time step for forwad state simulation [s].\n",
    "    * velocity_sample_min: minimum sampling velocity [m/s].\n",
    "    * velocity_sample_max: maximum sampling velocity [m/s].\n",
    "    * num_sample_velocity: number of velocity samples.\n",
    "    * steering_angle_sample_min: minimum sampling angle [rad]. Note that here we only consider steering to one side, as we will mirror the primitives afterwards.\n",
    "    * steering_angle_sample_max: maximum sampling angle [rad]. If set to 0, it will be assigned the maximum permissible value given by the selected vehicle parameter.\n",
    "    * num_sample_steering_angle: number of steering angle samples\n",
    "* **sample trajectory setting**: \n",
    "    * num_segment_trajectory: number of segments in sample trajectories\n",
    "    * num_simulations: number of sample trajectories to be generated\n",
    "\n",
    "Note: the paths can be either **relative** to this script, or **absolute**."
   ]
  },
  {
   "cell_type": "markdown",
   "metadata": {},
   "source": [
    "### Load configuration file and parameters"
   ]
  },
  {
   "cell_type": "code",
   "execution_count": null,
   "metadata": {},
   "outputs": [],
   "source": [
    "%load_ext autoreload\n",
    "%autoreload 2\n",
    "\n",
    "import matplotlib.pyplot as plt\n",
    "\n",
    "# import helper functions\n",
    "from implementation import Parameter, load_configuration, generate_motion_primitives, create_mirrored_primitives, \\\n",
    "save_motion_primitives, compute_number_successors_average, compute_number_successors_average, \\\n",
    "generate_sample_trajectories\n",
    "\n",
    "# specify path to configuration file\n",
    "path_file_config = \"../configuration/motion_primitives_config.yaml\"\n",
    "\n",
    "# load configuration file\n",
    "configuration = load_configuration(path_file_config)\n",
    "\n",
    "# parse configuration and generate parameter object\n",
    "parameters = Parameter(configuration)"
   ]
  },
  {
   "cell_type": "markdown",
   "metadata": {},
   "source": [
    "### Generate motion primitives\n",
    "The attributes of each of the states in a motion primitive are: x position, y position, steering angle, velocity in x direction, orientation and time step"
   ]
  },
  {
   "cell_type": "code",
   "execution_count": null,
   "metadata": {},
   "outputs": [],
   "source": [
    "list_traj_accepted = generate_motion_primitives(parameters)"
   ]
  },
  {
   "cell_type": "markdown",
   "metadata": {},
   "source": [
    "### Plot generated motion primitives"
   ]
  },
  {
   "cell_type": "code",
   "execution_count": null,
   "metadata": {},
   "outputs": [],
   "source": [
    "for traj in list_traj_accepted:\n",
    "    list_x = [state.position[0] for state in traj.state_list]\n",
    "    list_y = [state.position[1] for state in traj.state_list]\n",
    "    plt.plot(list_x, list_y)\n",
    "    \n",
    "plt.axis('equal')\n",
    "plt.show()"
   ]
  },
  {
   "cell_type": "markdown",
   "metadata": {},
   "source": [
    "### Create mirrored primitives\n",
    "As we only computed primitives that have a positive (negative) steering angle, we mirror them to get the other half of primitives."
   ]
  },
  {
   "cell_type": "code",
   "execution_count": null,
   "metadata": {},
   "outputs": [],
   "source": [
    "list_traj_accepted_mirrored = create_mirrored_primitives(list_traj_accepted, parameters)\n",
    "print(\"Total number of primitives (mirrored included): \", len(list_traj_accepted_mirrored))"
   ]
  },
  {
   "cell_type": "markdown",
   "metadata": {},
   "source": [
    "### Check average number of successors\n",
    "We can inspect how many successors does every primitive have on average."
   ]
  },
  {
   "cell_type": "code",
   "execution_count": null,
   "metadata": {},
   "outputs": [],
   "source": [
    "num_average_successors = compute_number_successors_average(list_traj_accepted_mirrored)\n",
    "print(\"average number of successors: \", num_average_successors)"
   ]
  },
  {
   "cell_type": "markdown",
   "metadata": {},
   "source": [
    "### Plot final motion primitives\n",
    "We can plot the final generated motion primitives."
   ]
  },
  {
   "cell_type": "code",
   "execution_count": null,
   "metadata": {},
   "outputs": [],
   "source": [
    "# fig = plt.figure()\n",
    "for traj in list_traj_accepted_mirrored:\n",
    "    list_x = [state.position[0] for state in traj.state_list]\n",
    "    list_y = [state.position[1] for state in traj.state_list]\n",
    "    plt.plot(list_x, list_y)\n",
    "    \n",
    "plt.axis('equal')\n",
    "plt.show()"
   ]
  },
  {
   "cell_type": "markdown",
   "metadata": {},
   "source": [
    "### Generate sample trajectories\n",
    "We can generate sample trajectories with the motion primitives that we have just generated"
   ]
  },
  {
   "cell_type": "code",
   "execution_count": null,
   "metadata": {},
   "outputs": [],
   "source": [
    "generate_sample_trajectories(list_traj_accepted_mirrored, parameters)"
   ]
  },
  {
   "cell_type": "markdown",
   "metadata": {},
   "source": [
    "### Save the motion primitives into xml file\n",
    "The xml containing generated motion primitives are output to the directory specified in the configuration"
   ]
  },
  {
   "cell_type": "code",
   "execution_count": null,
   "metadata": {},
   "outputs": [],
   "source": [
    "save_motion_primitives(list_traj_accepted_mirrored, parameters)"
   ]
  }
 ],
 "metadata": {
  "kernelspec": {
   "display_name": "Python 3",
   "language": "python",
   "name": "python3"
  },
  "language_info": {
   "codemirror_mode": {
    "name": "ipython",
    "version": 3
   },
   "file_extension": ".py",
   "mimetype": "text/x-python",
   "name": "python",
   "nbconvert_exporter": "python",
   "pygments_lexer": "ipython3",
   "version": "3.7.6"
  }
 },
 "nbformat": 4,
 "nbformat_minor": 2
}
