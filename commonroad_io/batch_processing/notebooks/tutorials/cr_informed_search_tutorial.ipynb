{
 "cells": [
  {
   "cell_type": "markdown",
   "metadata": {},
   "source": [
    "# Tutorial: Informed Search Algorithms and CommonRoad Search\n",
    "\n",
    "This tutorial shows how we can use motion primitives in informed search algorithms to find a trajectory that connects an **initial state** and a **goal region**."
   ]
  },
  {
   "cell_type": "markdown",
   "metadata": {},
   "source": [
    "## How to use this tutorial\n",
    "Before you start with this tutorial, make sure that \n",
    "* you have read through the tutorial for [CommonRoad-io](https://commonroad.in.tum.de/static/docs/commonroad-io/index.html). Its tutorial can be found [here](https://gitlab.lrz.de/tum-cps/commonroad_io/-/tree/master/commonroad%2Ftutorials).\n",
    "* you have installed all necessary modules for CommonRoad Search according to the [installation manual](https://gitlab.lrz.de/tum-cps/commonroad-search/-/blob/master/README.md).\n",
    "* you have done the  [tutorial on uninformed search algorithms](https://gitlab.lrz.de/tum-cps/commonroad-search/-/blob/master/notebooks/tutorials/cr_uninformed_search_tutorial.ipynb). \n",
    "\n",
    "\n",
    "Let's start with importing the modules and loading the commonroad scenario. "
   ]
  },
  {
   "cell_type": "code",
   "execution_count": null,
   "metadata": {},
   "outputs": [],
   "source": [
    "%matplotlib inline\n",
    "import matplotlib.pyplot as plt\n",
    "import sys\n",
    "sys.path.append(\"../../GSMP/motion_automata\")\n",
    "from commonroad.common.file_reader import CommonRoadFileReader\n",
    "from commonroad.visualization.draw_dispatch_cr import draw_object\n",
    "from automata.HelperFunctions import load_scenario, generate_automata\n",
    "from automata.helper_tree_search import *\n",
    "import automata.tree_search as tree_search"
   ]
  },
  {
   "cell_type": "code",
   "execution_count": null,
   "metadata": {},
   "outputs": [],
   "source": [
    "# Load scenario ZAM_Urban-3_2\n",
    "scenario_path = '../../scenarios/tutorial/'\n",
    "scenario_id = 'ZAM_Tutorial_Urban-3_2'\n",
    "\n",
    "scenario, planning_problem_set = CommonRoadFileReader(scenario_path+scenario_id+'.xml').open()\n",
    "\n",
    "# Plot scenario and planning problem set\n",
    "\n",
    "plt.figure(figsize=(15, 5))\n",
    "draw_object(scenario)\n",
    "draw_object(planning_problem_set)\n",
    "plt.gca().set_aspect('equal')\n",
    "plt.margins(0, 0)\n",
    "plt.show()\n",
    "\n",
    "planning_problem = list(planning_problem_set.planning_problem_dict.values())[0]"
   ]
  },
  {
   "cell_type": "markdown",
   "metadata": {},
   "source": [
    "## Generating a Maneuver Automaton\n",
    "\n",
    "In the following, we load the motion primitives from an XML-File and generate a Maneuver Automaton.\n",
    "The maneuver automaton for this tutorial consists of 7 motion primitives and stores the connectivity to other motion primitives. "
   ]
  },
  {
   "cell_type": "code",
   "execution_count": null,
   "metadata": {},
   "outputs": [],
   "source": [
    "# Load motion primitives (mp)\n",
    "mp_path = 'motion_primitives_search_tutorial/'\n",
    "mp_file = 'V_9.0_9.0_Vstep_0_SA_-0.2_0.2_SAstep_0.4_T_0.5_Model_BMW320i.xml'\n",
    "\n",
    "vehicle_type_id = 2\n",
    "automaton = generate_automata(vehicle_type_id, mp_file= mp_path+mp_file, search_tutorial=True)\n",
    "\n",
    "# plot motion primitives\n",
    "\n",
    "plt.figure(figsize=(8,8))\n",
    "\n",
    "for mp in automaton.Primitives:\n",
    "    plot_motion_primitive(mp)\n",
    "plt.show()\n",
    "\n"
   ]
  },
  {
   "cell_type": "markdown",
   "metadata": {},
   "source": [
    "## Greedy-Best-First Search (GBFS)\n",
    "As mentioned in the tutorial on uninformed search, GBFS is based on the Best-First Search and uses as evaluation function f(n) the heuristic cost h(n). For this application, we need a heuristic which estimates the time to reach the goal. Therefore, we calculate the euclidean distance of the final matched state to the goal region and divide it by the velocity in the final matched state. This is a very simple heuristic, but it works for our example.\n",
    "\n",
    "Before we run the algorithm you can have a look at the implementation of the Best-First Search and the evaluation function.\n",
    "\n",
    "```python\n",
    "def search_alg(self):\n",
    "    '''\n",
    "    Implementation of Best-First Search (tree search) using a Priority queue\n",
    "    '''\n",
    "    # First node\n",
    "    initial_node = PrioNode(path=[[self.initial_state]], primitives=[], tree_depth=0, current_cost=0)\n",
    "   \n",
    "\n",
    "    # add current node (i.e., current path and primitives) to the frontier\n",
    "    f = self.evaluation_function(initial_node)\n",
    "    self.frontier.insert(item=initial_node, priority=f)\n",
    "\n",
    "    while not self.frontier.empty():\n",
    "        # Pop the shallowest node\n",
    "        current_node: PrioNode = self.frontier.pop()\n",
    "\n",
    "        # Goal test\n",
    "        if self.reached_goal(current_node.path[-1]):\n",
    "            solution_path = self.remove_states_behind_goal(current_node.path)\n",
    "     \n",
    "            # return solution\n",
    "            return solution_path, current_node.primitives\n",
    "\n",
    "        # Check all possible successor primitives(i.e., actions) for current node\n",
    "        for succ_primitive in current_node.get_successors():\n",
    "\n",
    "            # translate/rotate motion primitive to current position\n",
    "            current_primitive_list = copy.copy(current_node.primitives)\n",
    "            path_translated = self.translate_primitive_to_current_state(succ_primitive, \n",
    "                                                                        current_node.path[-1])\n",
    "            # check for collision, if is not collision free it is skipped\n",
    "            if not self.check_collision_free(path_translated):\n",
    "                continue\n",
    "\n",
    "            current_primitive_list.append(succ_primitive)\n",
    "\n",
    "            path_new = current_node.path + [[current_node.path[-1][-1]] + path_translated]\n",
    "            child_node = PrioNode(path=path_new, primitives=current_primitive_list,\n",
    "                                  tree_depth=current_node.tree_depth + 1, \n",
    "                                  current_cost=current_node.current_cost)\n",
    "            f = self.evaluation_function(current_node=child_node)\n",
    "            print(f)\n",
    "\n",
    "            # Inserting the child into the frontier:\n",
    "            self.frontier.insert(item=child_node, priority=f)\n",
    "\n",
    "    return None, None\n",
    "\n",
    "def evaluation_function(self, current_node: PrioNode) -> float:\n",
    "    \"\"\"\n",
    "    Evaluation function of GBFS is f(n) = h(n)\n",
    "    \"\"\"\n",
    "\n",
    "    current_node.current_cost = self.heuristic_function(current_node=current_node)\n",
    "    return current_node.current_cost\n",
    "\n",
    "```"
   ]
  },
  {
   "cell_type": "markdown",
   "metadata": {},
   "source": [
    "Short reminder: When executing the following code block, you will see a \"visualize\" button directly beneath the \"iteration\" slider if you are running this notebook for the first time. Otherwise you can always find the button on the bottom.\n",
    "\n",
    "Click the \"visualize\" button and let the search algorithm run through, once it's completed, you can use the slider to see all the iterations step by step."
   ]
  },
  {
   "cell_type": "code",
   "execution_count": null,
   "metadata": {},
   "outputs": [],
   "source": [
    "gbfs_planner = tree_search.GreedyBestFirstSearch(scenario=scenario, planningProblem=planning_problem, \n",
    "                                                automaton=automaton)\n",
    "scenario_data = scenario_data = (scenario, gbfs_planner.initial_state, gbfs_planner.egoShape, planning_problem)\n",
    "\n",
    "# run the planner\n",
    "display_steps(scenario_data=scenario_data, algorithm=gbfs_planner.search_alg, \n",
    "              config=gbfs_planner.config)"
   ]
  },
  {
   "cell_type": "markdown",
   "metadata": {},
   "source": [
    "## A* Search\n",
    "\n",
    "A* uses the evaluation function f(n)= g(n) + h(n). So let's have a look at the new evaluation function and then let's run the A* Search.\n",
    "\n",
    "```python\n",
    "def evaluation_function(self, current_node: PrioNode) -> float:\n",
    "    \"\"\"\n",
    "    Evaluation function of A* is f(n) = g(n) + h(n)\n",
    "    \"\"\"\n",
    "\n",
    "    if self.reached_goal(current_node.path[-1]):\n",
    "        current_node.path = self.remove_states_behind_goal(current_node.path)\n",
    "    # calculate g(n)\n",
    "    current_node.current_cost += len(current_node.path[-1]) * self.scenario.dt\n",
    "\n",
    "    # f(n) = g(n) + h(n)\n",
    "    return current_node.current_cost + self.heuristic_function(current_node=current_node)\n",
    "\n",
    "```"
   ]
  },
  {
   "cell_type": "code",
   "execution_count": null,
   "metadata": {},
   "outputs": [],
   "source": [
    "astar_planner = tree_search.AStarSearch(scenario=scenario, planningProblem=planning_problem, \n",
    "                                                automaton=automaton)\n",
    "\n",
    "# run the planner\n",
    "display_steps(scenario_data=scenario_data, algorithm=astar_planner.search_alg, \n",
    "              config=astar_planner.config)"
   ]
  },
  {
   "cell_type": "markdown",
   "metadata": {},
   "source": [
    "Congratulations! You finished the tutorial on informed search and commonroad search. Now you are ready to implement your own search algorithms and heuristics to solve more complex planning problems."
   ]
  }
 ],
 "metadata": {
  "kernelspec": {
   "display_name": "Python 3",
   "language": "python",
   "name": "python3"
  },
  "language_info": {
   "codemirror_mode": {
    "name": "ipython",
    "version": 3
   },
   "file_extension": ".py",
   "mimetype": "text/x-python",
   "name": "python",
   "nbconvert_exporter": "python",
   "pygments_lexer": "ipython3",
   "version": "3.6.7"
  }
 },
 "nbformat": 4,
 "nbformat_minor": 2
}